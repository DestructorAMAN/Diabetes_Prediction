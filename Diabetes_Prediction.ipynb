{
 "cells": [
  {
   "cell_type": "code",
   "execution_count": 1,
   "id": "b6f4e25f",
   "metadata": {},
   "outputs": [
    {
     "data": {
      "text/plain": [
       "(331, 11)"
      ]
     },
     "execution_count": 1,
     "metadata": {},
     "output_type": "execute_result"
    }
   ],
   "source": [
    "from sklearn import datasets\n",
    "import numpy as np\n",
    "\n",
    "diabetes_dataset = np.loadtxt('diabetes_training.csv', delimiter=',')\n",
    "diabetes_dataset.shape"
   ]
  },
  {
   "cell_type": "code",
   "execution_count": 2,
   "id": "3ee6d5a7",
   "metadata": {},
   "outputs": [],
   "source": [
    "x = diabetes_dataset[:,0:10]\n",
    "y = diabetes_dataset[:,10]"
   ]
  },
  {
   "cell_type": "code",
   "execution_count": 3,
   "id": "09468077",
   "metadata": {},
   "outputs": [
    {
     "data": {
      "text/html": [
       "<div>\n",
       "<style scoped>\n",
       "    .dataframe tbody tr th:only-of-type {\n",
       "        vertical-align: middle;\n",
       "    }\n",
       "\n",
       "    .dataframe tbody tr th {\n",
       "        vertical-align: top;\n",
       "    }\n",
       "\n",
       "    .dataframe thead th {\n",
       "        text-align: right;\n",
       "    }\n",
       "</style>\n",
       "<table border=\"1\" class=\"dataframe\">\n",
       "  <thead>\n",
       "    <tr style=\"text-align: right;\">\n",
       "      <th></th>\n",
       "      <th>0</th>\n",
       "      <th>1</th>\n",
       "      <th>2</th>\n",
       "      <th>3</th>\n",
       "      <th>4</th>\n",
       "      <th>5</th>\n",
       "      <th>6</th>\n",
       "      <th>7</th>\n",
       "      <th>8</th>\n",
       "      <th>9</th>\n",
       "    </tr>\n",
       "  </thead>\n",
       "  <tbody>\n",
       "    <tr>\n",
       "      <th>0</th>\n",
       "      <td>-0.049105</td>\n",
       "      <td>-0.044642</td>\n",
       "      <td>0.160855</td>\n",
       "      <td>-0.046985</td>\n",
       "      <td>-0.029088</td>\n",
       "      <td>-0.019790</td>\n",
       "      <td>-0.047082</td>\n",
       "      <td>0.034309</td>\n",
       "      <td>0.028017</td>\n",
       "      <td>0.011349</td>\n",
       "    </tr>\n",
       "    <tr>\n",
       "      <th>1</th>\n",
       "      <td>-0.070900</td>\n",
       "      <td>0.050680</td>\n",
       "      <td>-0.089197</td>\n",
       "      <td>-0.074528</td>\n",
       "      <td>-0.042848</td>\n",
       "      <td>-0.025739</td>\n",
       "      <td>-0.032356</td>\n",
       "      <td>-0.002592</td>\n",
       "      <td>-0.012908</td>\n",
       "      <td>-0.054925</td>\n",
       "    </tr>\n",
       "    <tr>\n",
       "      <th>2</th>\n",
       "      <td>0.001751</td>\n",
       "      <td>-0.044642</td>\n",
       "      <td>-0.070875</td>\n",
       "      <td>-0.022885</td>\n",
       "      <td>-0.001569</td>\n",
       "      <td>-0.001001</td>\n",
       "      <td>0.026550</td>\n",
       "      <td>-0.039493</td>\n",
       "      <td>-0.022512</td>\n",
       "      <td>0.007207</td>\n",
       "    </tr>\n",
       "    <tr>\n",
       "      <th>3</th>\n",
       "      <td>0.048974</td>\n",
       "      <td>0.050680</td>\n",
       "      <td>0.081097</td>\n",
       "      <td>0.021872</td>\n",
       "      <td>0.043837</td>\n",
       "      <td>0.064134</td>\n",
       "      <td>-0.054446</td>\n",
       "      <td>0.071210</td>\n",
       "      <td>0.032433</td>\n",
       "      <td>0.048628</td>\n",
       "    </tr>\n",
       "    <tr>\n",
       "      <th>4</th>\n",
       "      <td>0.041708</td>\n",
       "      <td>0.050680</td>\n",
       "      <td>0.061696</td>\n",
       "      <td>-0.040099</td>\n",
       "      <td>-0.013953</td>\n",
       "      <td>0.006202</td>\n",
       "      <td>-0.028674</td>\n",
       "      <td>-0.002592</td>\n",
       "      <td>-0.014956</td>\n",
       "      <td>0.011349</td>\n",
       "    </tr>\n",
       "  </tbody>\n",
       "</table>\n",
       "</div>"
      ],
      "text/plain": [
       "          0         1         2         3         4         5         6  \\\n",
       "0 -0.049105 -0.044642  0.160855 -0.046985 -0.029088 -0.019790 -0.047082   \n",
       "1 -0.070900  0.050680 -0.089197 -0.074528 -0.042848 -0.025739 -0.032356   \n",
       "2  0.001751 -0.044642 -0.070875 -0.022885 -0.001569 -0.001001  0.026550   \n",
       "3  0.048974  0.050680  0.081097  0.021872  0.043837  0.064134 -0.054446   \n",
       "4  0.041708  0.050680  0.061696 -0.040099 -0.013953  0.006202 -0.028674   \n",
       "\n",
       "          7         8         9  \n",
       "0  0.034309  0.028017  0.011349  \n",
       "1 -0.002592 -0.012908 -0.054925  \n",
       "2 -0.039493 -0.022512  0.007207  \n",
       "3  0.071210  0.032433  0.048628  \n",
       "4 -0.002592 -0.014956  0.011349  "
      ]
     },
     "execution_count": 3,
     "metadata": {},
     "output_type": "execute_result"
    }
   ],
   "source": [
    "import pandas as pd\n",
    "\n",
    "panda_df = pd.DataFrame(x)\n",
    "panda_df.head()"
   ]
  },
  {
   "cell_type": "code",
   "execution_count": 4,
   "id": "e18d10a7",
   "metadata": {},
   "outputs": [],
   "source": [
    "from sklearn import model_selection\n",
    "from sklearn.linear_model import LinearRegression\n",
    "\n",
    "\n",
    "x_train,x_test,y_train,y_test = model_selection.train_test_split(x,y)\n",
    "alg1 = LinearRegression()\n",
    "\n",
    "alg1.fit(x_train,y_train)\n",
    "\n",
    "y_pred = alg1.predict(x_test)"
   ]
  },
  {
   "cell_type": "code",
   "execution_count": 5,
   "id": "e2399a5c",
   "metadata": {},
   "outputs": [
    {
     "data": {
      "image/png": "[encoded data removed]",
      "text/plain": [
       "<Figure size 640x480 with 1 Axes>"
      ]
     },
     "metadata": {},
     "output_type": "display_data"
    }
   ],
   "source": [
    "import matplotlib.pyplot as pyp\n",
    "\n",
    "pyp.scatter(y_pred,y_test)\n",
    "pyp.show()"
   ]
  },
  {
   "cell_type": "code",
   "execution_count": 6,
   "id": "6c5f5103",
   "metadata": {},
   "outputs": [
    {
     "data": {
      "image/png": "[encoded data removed]",
      "text/plain": [
       "<Figure size 640x480 with 1 Axes>"
      ]
     },
     "metadata": {},
     "output_type": "display_data"
    }
   ],
   "source": [
    "diabetes_test = np.loadtxt('diabetes_test.csv', delimiter=',')\n",
    "x_test = diabetes_dataset[:,0:10]\n",
    "y_test = diabetes_dataset[:,10]\n",
    "\n",
    "y_pred = alg1.predict(x_test)\n",
    "\n",
    "pyp.scatter(y_pred,y_test)\n",
    "pyp.show()"
   ]
  },
  {
   "cell_type": "code",
   "execution_count": 7,
   "id": "22d28a1e",
   "metadata": {},
   "outputs": [
    {
     "data": {
      "text/plain": [
       "array([273.04102,  67.06155,  99.17087, 225.31837, 162.56103,  75.91645,\n",
       "       181.92811, 166.12529,  55.36954, 222.31374, 101.74664,  85.42327,\n",
       "       137.05073,  63.19904, 162.0492 , 128.1746 ,  83.56729,  98.21349,\n",
       "       201.78265, 107.01136, 129.06663, 157.77314,  91.17592,  93.6992 ,\n",
       "        86.28727, 150.10195, 199.72285, 126.43472, 248.72403, 150.09379,\n",
       "        65.52556, 173.06732, 113.08321, 117.16724, 170.71511, 242.42521,\n",
       "       178.74838,  97.10834, 176.93578, 204.91033, 170.05956, 141.48863,\n",
       "        43.79259, 100.48899, 119.54323, 217.97206, 237.49733, 140.6033 ,\n",
       "       164.04909,  75.82676, 151.34362,  81.34698, 210.14578, 158.29291,\n",
       "       159.52458, 131.62529, 161.55175, 167.9399 , 222.88855, 114.90826,\n",
       "       138.16928, 162.25266,  61.18296, 236.02243, 155.19325, 125.76852,\n",
       "       149.63706, 181.71854, 166.35904, 125.8118 , 105.55345, 166.82951,\n",
       "       144.66293, 233.78079, 143.41743, 110.62552, 268.03975, 180.74681,\n",
       "       215.45946, 195.14828, 204.00119, 153.38129,  76.16767, 178.7857 ,\n",
       "       120.68542, 126.18454,  82.25213,  75.55206, 143.24432, 140.66445,\n",
       "       202.28298,  93.57253,  55.68464, 198.6569 , 101.39505, 114.02394,\n",
       "       250.97836, 226.33587, 217.43819, 157.55661,  60.24404, 108.32968,\n",
       "       195.67782, 191.1315 , 118.79646,  68.73134, 105.03526,  97.82874,\n",
       "       153.09652, 113.06414, 219.29872,  52.83896, 191.83209, 177.86469,\n",
       "       159.42788,  66.27864, 237.80222, 187.66811,  96.60112, 179.65833,\n",
       "       231.00475, 200.7262 , 182.9113 , 190.54479, 162.13991, 183.00736,\n",
       "       146.00343,  97.03182, 192.2585 , 164.55585, 195.19806, 118.67846,\n",
       "       150.09867,  81.79301, 107.88198, 163.8948 ,  78.22272, 191.90124,\n",
       "        70.98361, 120.1191 ,  71.25968, 122.54137, 135.21736, 101.72089,\n",
       "       206.94945, 125.66876, 155.29818, 150.83825,  64.73649, 225.0283 ,\n",
       "       272.61685, 132.05053, 191.19662, 161.87166, 169.89835, 120.99869,\n",
       "       147.49977, 177.47737, 114.45566, 101.18825,  88.91453, 261.58251,\n",
       "       209.92904, 156.66692, 142.69063, 132.2858 ,  70.78575, 191.71371,\n",
       "       159.53878, 246.296  ,  81.01073, 184.6819 ,  88.96288, 181.45868,\n",
       "       155.77745, 115.17153, 236.03845, 183.81917, 110.69559,  86.72779,\n",
       "        70.37693, 185.7932 , 151.57875, 192.03584,  58.59206, 290.08389,\n",
       "        84.68954, 126.42257, 114.02471, 166.05267, 173.40618, 201.77492,\n",
       "       144.13543, 187.14507,  84.46985, 255.05427, 277.72483, 162.30774,\n",
       "        84.70555,  61.64844,  97.98229, 151.84726, 114.5875 , 122.6029 ,\n",
       "       164.5068 , 161.03251,  87.05988, 113.63684, 170.49817,  86.42363,\n",
       "        99.61609, 262.91476, 139.74802, 276.16192, 103.86049, 183.38158,\n",
       "       125.24364, 109.17081, 122.34028, 234.52616,  92.6788 , 127.84428,\n",
       "       140.84285, 175.53408, 205.56253, 160.75821, 168.9931 , 125.67975,\n",
       "        55.05183, 116.54252, 178.28067, 275.9951 , 139.96698, 121.77939,\n",
       "       175.74965, 131.64039,  82.64471, 173.33339, 125.31289, 262.51408,\n",
       "       100.19964, 243.75005, 250.64962, 175.63207, 118.47567,  52.43195,\n",
       "       173.95407, 223.34651, 131.468  , 186.68145, 230.60431, 192.8489 ,\n",
       "       220.71142, 138.48727, 187.07193,  66.92368, 190.26071, 161.21656,\n",
       "       167.09425, 144.16095, 134.33005, 153.04188, 232.69865, 151.46631,\n",
       "       132.66764, 142.66404, 156.99453, 156.3973 , 115.52333, 163.67908,\n",
       "       123.71736, 122.48865, 167.99357, 254.50994,  97.00945, 148.85263,\n",
       "       172.17569,  39.69034, 210.49082, 266.74519, 115.76008, 225.7007 ,\n",
       "       241.34943, 116.40545, 181.8192 ,  75.12869, 189.71917, 121.02339,\n",
       "       117.38913, 212.04875, 158.48507,  65.30908, 255.82586, 162.52287,\n",
       "       127.98261, 235.13319,  87.94898, 155.9365 , 199.94532,  51.34646,\n",
       "       202.07198, 170.24526, 150.38286, 161.9259 , 249.03321, 220.59107,\n",
       "       103.19612, 132.71529,  84.39566,  51.904  , 225.68159, 113.42097,\n",
       "       137.56967, 117.97837, 182.70503, 188.3883 , 147.75541, 269.80574,\n",
       "       175.10879,  67.27335, 118.48977,  92.65416,  94.02153, 210.2938 ,\n",
       "        77.41352, 201.16251, 198.97413,  58.55535, 211.16137, 207.54922,\n",
       "       128.78889])"
      ]
     },
     "execution_count": 7,
     "metadata": {},
     "output_type": "execute_result"
    }
   ],
   "source": [
    "type(y_pred)\n",
    "y_pred_rounded = np.round(y_pred,decimals=5)\n",
    "y_pred_rounded"
   ]
  },
  {
   "cell_type": "code",
   "execution_count": 8,
   "id": "39970d25",
   "metadata": {},
   "outputs": [],
   "source": [
    "file_csv = np.savetxt('y_pred',y_pred_rounded, delimiter=',', fmt='%.5f')"
   ]
  },
  {
   "cell_type": "code",
   "execution_count": null,
   "id": "d352dd33",
   "metadata": {},
   "outputs": [],
   "source": []
  }
 ],
 "metadata": {
  "kernelspec": {
   "display_name": "Python 3 (ipykernel)",
   "language": "python",
   "name": "python3"
  },
  "language_info": {
   "codemirror_mode": {
    "name": "ipython",
    "version": 3
   },
   "file_extension": ".py",
   "mimetype": "text/x-python",
   "name": "python",
   "nbconvert_exporter": "python",
   "pygments_lexer": "ipython3",
   "version": "3.9.13"
  }
 },
 "nbformat": 4,
 "nbformat_minor": 5
}
